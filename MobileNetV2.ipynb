{
 "cells": [
  {
   "cell_type": "code",
   "execution_count": 1,
   "metadata": {},
   "outputs": [],
   "source": [
    "import tensorflow as tf\n",
    "from tensorflow.keras import layers, Sequential, Model"
   ]
  },
  {
   "cell_type": "code",
   "execution_count": 4,
   "metadata": {},
   "outputs": [],
   "source": [
    "def _make_divisible(ch, divisor=8, min_ch=None):\n",
    "    \"\"\"\n",
    "    This function is taken from the original tf repo.\n",
    "    It ensures that all layers have a channel number that is divisible by 8\n",
    "    It can be seen here:\n",
    "    https://github.com/tensorflow/models/blob/master/research/slim/nets/mobilenet/mobilenet.py\n",
    "    \"\"\"\n",
    "    if min_ch is None:\n",
    "        min_ch = divisor\n",
    "    new_ch = max(min_ch, int(ch + divisor / 2) // divisor * divisor)\n",
    "    # Make sure that round down does not go down by more than 10%.\n",
    "    if new_ch < 0.9 * ch:\n",
    "        new_ch += divisor\n",
    "    return new_ch"
   ]
  },
  {
   "cell_type": "code",
   "execution_count": 2,
   "metadata": {},
   "outputs": [],
   "source": [
    "class ConvBNReLU(layers.Layer):\n",
    "    def __init__(self, out_channel, kernel_size=3, stride=1, **kwarg):\n",
    "        super(ConvBNReLU, self).__init__(**kwarg)\n",
    "        self.Conv = layers.Conv2D(filters=out_channel, kernel_size=kernel_size, strides=stride, \n",
    "                                  padding='same', use_bias=False, name='Conv2d', **kwarg)\n",
    "        self.BN = layers.BatchNormalization(momentum=0.9, epsilon=1e-5, name='BatchNorm')\n",
    "        self.ReLU = layers.ReLU(max_value=6.0)\n",
    "    \n",
    "    def call(self, inputs):\n",
    "        x = self.Conv(inputs)\n",
    "        x = self.BN(x)\n",
    "        out = self.ReLU(x)\n",
    "\n",
    "        return out"
   ]
  },
  {
   "cell_type": "code",
   "execution_count": 35,
   "metadata": {},
   "outputs": [],
   "source": [
    "class Bottleneck(layers.Layer):\n",
    "    def __init__(self, in_channel, out_channel, t, stride, **kwarg):\n",
    "        super(Bottleneck, self).__init__(**kwarg)\n",
    "        self.hidden_channel = in_channel * t\n",
    "        self.shortcut = in_channel == out_channel and stride==1\n",
    "\n",
    "        layer_list = []\n",
    "        if t != 1:\n",
    "            layer_list.append(ConvBNReLU(out_channel=self.hidden_channel, kernel_size=1))\n",
    "        layer_list.extend(\n",
    "            [\n",
    "                layers.DepthwiseConv2D(kernel_size=3, padding='same', strides=stride, use_bias=False),\n",
    "                layers.BatchNormalization(momentum=0.9, epsilon=1e-5),\n",
    "                layers.ReLU(max_value=6.0),\n",
    "                layers.Conv2D(filters=out_channel, kernel_size=1, strides=1, use_bias=False)\n",
    "            ]\n",
    "        )\n",
    "        self.block = Sequential(layer_list, name='bottleneck')\n",
    "    \n",
    "    def call(self, inputs, **kwarg):\n",
    "        if self.shortcut:\n",
    "            return inputs + self.block(inputs)\n",
    "        else:\n",
    "            return self.block(inputs)\n"
   ]
  },
  {
   "cell_type": "code",
   "execution_count": 36,
   "metadata": {},
   "outputs": [],
   "source": [
    "def MobileNetV2(H = 224, W = 224, num_classes = 1000, alpha = 1.0, round_nearest = 8):\n",
    "    input_channel = _make_divisible(32*alpha, round_nearest)\n",
    "    last_channel = _make_divisible(1280*alpha, round_nearest)\n",
    "\n",
    "    block_setting = [\n",
    "        [1, 16, 1, 1],\n",
    "        [6, 24, 2, 2],\n",
    "        [6, 32, 3, 2],\n",
    "        [6, 64, 4, 2],\n",
    "        [6, 96, 3, 1],\n",
    "        [6, 160, 3, 2],\n",
    "        [6, 320, 1, 1]\n",
    "    ]\n",
    "\n",
    "    input_image = layers.Input(shape=[H, W, 3], dtype='float32')\n",
    "    x = ConvBNReLU(out_channel=input_channel, stride=2, name='Conv')(input_image)\n",
    "\n",
    "    for t, c, n, s in block_setting:\n",
    "        out_channel = _make_divisible(c * alpha, round_nearest)\n",
    "        for i in range(n):\n",
    "            stride = s if i == 0 else 1\n",
    "            x = Bottleneck(x.shape[-1], out_channel, t=t, stride=stride)(x)\n",
    "        \n",
    "    x = ConvBNReLU(out_channel=last_channel, kernel_size=1, name='Conv1')(x)\n",
    "    x = layers.GlobalAveragePooling2D()(x)\n",
    "    x = layers.Dropout(0.2)(x)\n",
    "    output = layers.Dense(num_classes, name='logits')(x)\n",
    "\n",
    "    model = Model(inputs=input_image, outputs=output)\n",
    "\n",
    "    return model"
   ]
  },
  {
   "cell_type": "code",
   "execution_count": 37,
   "metadata": {},
   "outputs": [],
   "source": [
    "net = MobileNetV2()"
   ]
  },
  {
   "cell_type": "code",
   "execution_count": 38,
   "metadata": {},
   "outputs": [
    {
     "output_type": "stream",
     "name": "stdout",
     "text": "Model: \"model_5\"\n_________________________________________________________________\nLayer (type)                 Output Shape              Param #   \n=================================================================\ninput_11 (InputLayer)        [(None, 224, 224, 3)]     0         \n_________________________________________________________________\nConv (ConvBNReLU)            (None, 112, 112, 32)      992       \n_________________________________________________________________\nbottleneck_88 (Bottleneck)   (None, 112, 112, 16)      928       \n_________________________________________________________________\nbottleneck_89 (Bottleneck)   (None, 56, 56, 24)        5472      \n_________________________________________________________________\nbottleneck_90 (Bottleneck)   (None, 56, 56, 24)        9360      \n_________________________________________________________________\nbottleneck_91 (Bottleneck)   (None, 28, 28, 32)        10512     \n_________________________________________________________________\nbottleneck_92 (Bottleneck)   (None, 28, 28, 32)        15552     \n_________________________________________________________________\nbottleneck_93 (Bottleneck)   (None, 28, 28, 32)        15552     \n_________________________________________________________________\nbottleneck_94 (Bottleneck)   (None, 14, 14, 64)        21696     \n_________________________________________________________________\nbottleneck_95 (Bottleneck)   (None, 14, 14, 64)        55680     \n_________________________________________________________________\nbottleneck_96 (Bottleneck)   (None, 14, 14, 64)        55680     \n_________________________________________________________________\nbottleneck_97 (Bottleneck)   (None, 14, 14, 64)        55680     \n_________________________________________________________________\nbottleneck_98 (Bottleneck)   (None, 14, 14, 96)        67968     \n_________________________________________________________________\nbottleneck_99 (Bottleneck)   (None, 14, 14, 96)        120384    \n_________________________________________________________________\nbottleneck_100 (Bottleneck)  (None, 14, 14, 96)        120384    \n_________________________________________________________________\nbottleneck_101 (Bottleneck)  (None, 7, 7, 160)         157248    \n_________________________________________________________________\nbottleneck_102 (Bottleneck)  (None, 7, 7, 160)         323520    \n_________________________________________________________________\nbottleneck_103 (Bottleneck)  (None, 7, 7, 160)         323520    \n_________________________________________________________________\nbottleneck_104 (Bottleneck)  (None, 7, 7, 320)         477120    \n_________________________________________________________________\nConv1 (ConvBNReLU)           (None, 7, 7, 1280)        414720    \n_________________________________________________________________\nglobal_average_pooling2d_5 ( (None, 1280)              0         \n_________________________________________________________________\ndropout_5 (Dropout)          (None, 1280)              0         \n_________________________________________________________________\nlogits (Dense)               (None, 1000)              1281000   \n=================================================================\nTotal params: 3,532,968\nTrainable params: 3,501,864\nNon-trainable params: 31,104\n_________________________________________________________________\n"
    }
   ],
   "source": [
    "net.summary()"
   ]
  },
  {
   "cell_type": "code",
   "execution_count": null,
   "metadata": {},
   "outputs": [],
   "source": []
  }
 ],
 "metadata": {
  "language_info": {
   "codemirror_mode": {
    "name": "ipython",
    "version": 3
   },
   "file_extension": ".py",
   "mimetype": "text/x-python",
   "name": "python",
   "nbconvert_exporter": "python",
   "pygments_lexer": "ipython3",
   "version": "3.6.10-final"
  },
  "orig_nbformat": 2,
  "kernelspec": {
   "name": "python361064bittf2condad21a052a10394ba5882f50851d0dfe0c",
   "display_name": "Python 3.6.10 64-bit ('tf2': conda)"
  }
 },
 "nbformat": 4,
 "nbformat_minor": 2
}