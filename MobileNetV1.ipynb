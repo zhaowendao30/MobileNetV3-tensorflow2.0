{
 "cells": [
  {
   "cell_type": "code",
   "execution_count": 1,
   "metadata": {},
   "outputs": [],
   "source": [
    "import tensorflow as tf\n",
    "from tensorflow.keras import layers, Sequential, Model"
   ]
  },
  {
   "cell_type": "markdown",
   "metadata": {},
   "source": [
    "<div align=center><img src=\"./image/MobileNetV1.png\" width=\"400\"/></div>"
   ]
  },
  {
   "cell_type": "code",
   "execution_count": 51,
   "metadata": {},
   "outputs": [],
   "source": [
    "class ConvBNReLU(layers.Layer):\n",
    "    def __init__(self, out_channel, kernel_size=1, stride=1, **kwarg):\n",
    "        super(ConvBNReLU, self).__init__(**kwarg)\n",
    "        self.Conv = layers.Conv2D(filters=out_channel, kernel_size=kernel_size, strides=stride, padding='same', use_bias=False, **kwarg)\n",
    "        self.BN = layers.BatchNormalization(momentum=0.9, epsilon=1e-5)\n",
    "        self.ReLU = layers.ReLU(max_value=6.0)\n",
    "    \n",
    "    def call(self, inputs):\n",
    "        x = self.Conv(inputs)\n",
    "        x = self.BN(x)\n",
    "        out = self.ReLU(x)\n",
    "\n",
    "        return out\n"
   ]
  },
  {
   "cell_type": "code",
   "execution_count": 52,
   "metadata": {},
   "outputs": [],
   "source": [
    "class DWBNReLU(layers.Layer):\n",
    "    def __init__(self, out_channel, kernel_size=3, stride=1, **kwarg):\n",
    "        super(DWBNReLU, self).__init__(**kwarg)\n",
    "        self.Conv = layers.DepthwiseConv2D(kernel_size=kernel_size, strides=stride, padding='same', use_bias=False, **kwarg)\n",
    "        self.BN = layers.BatchNormalization(momentum=0.9, epsilon=1e-5)\n",
    "        self.ReLU = layers.ReLU(max_value=6.0)\n",
    "    \n",
    "    def call(self, inputs):\n",
    "        x = self.Conv(inputs)\n",
    "        x = self.BN(x)\n",
    "        out = self.ReLU(x)\n",
    "        \n",
    "        return out"
   ]
  },
  {
   "cell_type": "code",
   "execution_count": 53,
   "metadata": {},
   "outputs": [],
   "source": [
    "class Block(layers.Layer):\n",
    "    def __init__(self, out_channel, stride = 1, **kwarg):\n",
    "        super(Block, self).__init__(**kwarg)\n",
    "        self.stride = stride\n",
    "        self.DWBNReLU_1 = DWBNReLU(out_channel=out_channel)\n",
    "        self.DWBNReLU_2 = DWBNReLU(out_channel=out_channel, stride=2)\n",
    "        self.ConvBNReLU_1 = ConvBNReLU(out_channel=out_channel)\n",
    "        self.ConvBNReLU_2 = ConvBNReLU(out_channel=2*out_channel)\n",
    "    \n",
    "    def call(self, inputs):\n",
    "        if self.stride == 1:\n",
    "            x = self.DWBNReLU_1(inputs)\n",
    "            out = self.ConvBNReLU_1(x)\n",
    "        elif self.stride == 2:\n",
    "            x = self.DWBNReLU_2(inputs)\n",
    "            out = self.ConvBNReLU_2(x)\n",
    "        \n",
    "        return out\n",
    "\n",
    "        "
   ]
  },
  {
   "cell_type": "code",
   "execution_count": 59,
   "metadata": {},
   "outputs": [],
   "source": [
    "def MobileNetV1(H = 224, W = 224, num_classes = 10):\n",
    "    block_setting = [['DW', 32, 1], ['Conv', 64, 1], ['DW', 64, 2], ['Conv', 128, 1], ['DW', 128, 1], ['Conv', 128, 1],\n",
    "                     ['DW', 128, 2], ['Conv', 256, 1], ['DW', 256, 1], ['Conv', 256, 1], ['DW', 256, 2], ['Conv', 512, 1]]\n",
    "    input_image = layers.Input(shape=(H, W, 3), dtype='float32')\n",
    "    x = ConvBNReLU(out_channel=32, kernel_size=3, stride=2, name='Conv_s2_1')(input_image)\n",
    "    for i, (kind, out_channel, stride) in enumerate(block_setting):\n",
    "        if kind == 'Conv':\n",
    "            x = ConvBNReLU(out_channel=out_channel, stride=stride, name='Conv_s'+str(stride)+'_'+str(i+2))(x)\n",
    "        elif kind == 'DW':\n",
    "            x = DWBNReLU(out_channel=out_channel, stride=stride, name='Conv_dw_s'+str(stride)+'_'+str(i+2))(x)\n",
    "    for i in range(5):\n",
    "        x = Block(out_channel=512, stride=1, name='block'+'_'+str(i+14))(x)\n",
    "    x = DWBNReLU(out_channel=512, stride=2, name='Conv_dw_s2_15')(x)\n",
    "    x = ConvBNReLU(out_channel=1024, name='Conv_s1_16')(x)\n",
    "    x = DWBNReLU(out_channel=1024, stride=2, name='Conv_dw_s2_17')(x)\n",
    "    x = ConvBNReLU(out_channel=1024, name='Conv_s1_18')(x)\n",
    "    x = layers.GlobalAveragePooling2D(name='Avg_Pool_s1_19')(x)\n",
    "    output = layers.Dense(num_classes, name='logit_20')(x)\n",
    "    \n",
    "    model = Model(inputs=input_image, outputs=output)\n",
    "    \n",
    "    return model\n"
   ]
  },
  {
   "cell_type": "code",
   "execution_count": 60,
   "metadata": {},
   "outputs": [],
   "source": [
    "net = MobileNetV1()"
   ]
  },
  {
   "cell_type": "code",
   "execution_count": 61,
   "metadata": {},
   "outputs": [
    {
     "output_type": "stream",
     "name": "stdout",
     "text": "Model: \"model_2\"\n_________________________________________________________________\nLayer (type)                 Output Shape              Param #   \n=================================================================\ninput_16 (InputLayer)        [(None, 224, 224, 3)]     0         \n_________________________________________________________________\nConv_s2_1 (ConvBNReLU)       (None, 112, 112, 32)      992       \n_________________________________________________________________\nConv_dw_s1_2 (DWBNReLU)      (None, 112, 112, 32)      416       \n_________________________________________________________________\nConv_s1_3 (ConvBNReLU)       (None, 112, 112, 64)      2304      \n_________________________________________________________________\nConv_dw_s2_4 (DWBNReLU)      (None, 56, 56, 64)        832       \n_________________________________________________________________\nConv_s1_5 (ConvBNReLU)       (None, 56, 56, 128)       8704      \n_________________________________________________________________\nConv_dw_s1_6 (DWBNReLU)      (None, 56, 56, 128)       1664      \n_________________________________________________________________\nConv_s1_7 (ConvBNReLU)       (None, 56, 56, 128)       16896     \n_________________________________________________________________\nConv_dw_s2_8 (DWBNReLU)      (None, 28, 28, 128)       1664      \n_________________________________________________________________\nConv_s1_9 (ConvBNReLU)       (None, 28, 28, 256)       33792     \n_________________________________________________________________\nConv_dw_s1_10 (DWBNReLU)     (None, 28, 28, 256)       3328      \n_________________________________________________________________\nConv_s1_11 (ConvBNReLU)      (None, 28, 28, 256)       66560     \n_________________________________________________________________\nConv_dw_s2_12 (DWBNReLU)     (None, 14, 14, 256)       3328      \n_________________________________________________________________\nConv_s1_13 (ConvBNReLU)      (None, 14, 14, 512)       133120    \n_________________________________________________________________\nblock_14 (Block)             (None, 14, 14, 512)       270848    \n_________________________________________________________________\nblock_15 (Block)             (None, 14, 14, 512)       270848    \n_________________________________________________________________\nblock_16 (Block)             (None, 14, 14, 512)       270848    \n_________________________________________________________________\nblock_17 (Block)             (None, 14, 14, 512)       270848    \n_________________________________________________________________\nblock_18 (Block)             (None, 14, 14, 512)       270848    \n_________________________________________________________________\nConv_dw_s2_15 (DWBNReLU)     (None, 7, 7, 512)         6656      \n_________________________________________________________________\nConv_s1_16 (ConvBNReLU)      (None, 7, 7, 1024)        528384    \n_________________________________________________________________\nConv_dw_s2_17 (DWBNReLU)     (None, 4, 4, 1024)        13312     \n_________________________________________________________________\nConv_s1_18 (ConvBNReLU)      (None, 4, 4, 1024)        1052672   \n_________________________________________________________________\nlogit_20 (Dense)             (None, 4, 4, 10)          10250     \n=================================================================\nTotal params: 3,239,114\nTrainable params: 3,217,226\nNon-trainable params: 21,888\n_________________________________________________________________\n"
    }
   ],
   "source": [
    "net.summary()"
   ]
  },
  {
   "cell_type": "code",
   "execution_count": null,
   "metadata": {},
   "outputs": [],
   "source": []
  }
 ],
 "metadata": {
  "language_info": {
   "codemirror_mode": {
    "name": "ipython",
    "version": 3
   },
   "file_extension": ".py",
   "mimetype": "text/x-python",
   "name": "python",
   "nbconvert_exporter": "python",
   "pygments_lexer": "ipython3",
   "version": "3.6.10-final"
  },
  "orig_nbformat": 2,
  "kernelspec": {
   "name": "python361064bittf2condad21a052a10394ba5882f50851d0dfe0c",
   "display_name": "Python 3.6.10 64-bit ('tf2': conda)"
  }
 },
 "nbformat": 4,
 "nbformat_minor": 2
}